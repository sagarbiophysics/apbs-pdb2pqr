{
 "cells": [
  {
   "cell_type": "markdown",
   "metadata": {},
   "source": [
    "# Test PDB2PQR Python 3 features interactively\n",
    "\n",
    "Much of this should be turned into unittest tests..."
   ]
  },
  {
   "cell_type": "code",
   "execution_count": 10,
   "metadata": {
    "collapsed": false
   },
   "outputs": [],
   "source": [
    "import sys\n",
    "import pandas\n",
    "from IPython.display import display"
   ]
  },
  {
   "cell_type": "code",
   "execution_count": 11,
   "metadata": {
    "collapsed": true
   },
   "outputs": [],
   "source": [
    "sys.path.append(\"..\")\n",
    "\n",
    "# import pdb2pka\n",
    "# import propka30\n",
    "# import propka31\n",
    "# import extensions"
   ]
  },
  {
   "cell_type": "markdown",
   "metadata": {},
   "source": [
    "## Test PDB2PQR"
   ]
  },
  {
   "cell_type": "code",
   "execution_count": 12,
   "metadata": {
    "collapsed": false,
    "scrolled": false
   },
   "outputs": [],
   "source": [
    "import pdb2pqr\n",
    "import pdb2pqr.pdb\n",
    "import pdb2pqr.utilities\n",
    "import pdb2pqr.quatfit\n",
    "import pdb2pqr.molecules\n",
    "import pdb2pqr.aminos\n",
    "import pdb2pqr.nucleics\n",
    "import pdb2pqr.routines"
   ]
  },
  {
   "cell_type": "code",
   "execution_count": 13,
   "metadata": {
    "collapsed": false
   },
   "outputs": [],
   "source": [
    "import pdb2pqr.pdb\n",
    "with open(\"examples/1P9I.pdb\", \"rt\") as pdb_file:\n",
    "    pdb_list, pdb_errors = pdb2pqr.pdb.read_pdb(pdb_file)\n",
    "if len(pdb_errors) > 0:\n",
    "    raise RuntimeError(\"PDB parsing error\")"
   ]
  }
 ],
 "metadata": {
  "kernelspec": {
   "display_name": "Python 3",
   "language": "python",
   "name": "python3"
  },
  "language_info": {
   "codemirror_mode": {
    "name": "ipython",
    "version": 3
   },
   "file_extension": ".py",
   "mimetype": "text/x-python",
   "name": "python",
   "nbconvert_exporter": "python",
   "pygments_lexer": "ipython3",
   "version": "3.4.3"
  }
 },
 "nbformat": 4,
 "nbformat_minor": 0
}
